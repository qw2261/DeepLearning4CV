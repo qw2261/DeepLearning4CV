{
 "cells": [
  {
   "cell_type": "markdown",
   "metadata": {},
   "source": [
    "# Deep Learning for Computer Vision:  Assignment 1\n"
   ]
  },
  {
   "cell_type": "markdown",
   "metadata": {},
   "source": [
    "## Computer Science: COMS W 4995 007\n"
   ]
  },
  {
   "cell_type": "markdown",
   "metadata": {},
   "source": [
    "### Due: October 1, 2019"
   ]
  },
  {
   "cell_type": "raw",
   "metadata": {},
   "source": []
  },
  {
   "cell_type": "markdown",
   "metadata": {},
   "source": [
    "#### Problem 1"
   ]
  },
  {
   "cell_type": "markdown",
   "metadata": {},
   "source": [
    "You are asked to produce a minumum error rate classifier for a 3-class classification problem. Your feature space is 2-dimensional. Let's say the class conditional density functions (or likelihoods) are known and given by $\\rho({\\bf x}|y_i)$\n",
    "where ${\\bf x}$ is your feature and $y_i$ specifies the class. Let's also assume that the priors $P(y_i)$ are also given. (Both of these are specified below.) Show the decision regions for each of the three classes. Hint: you can show this by densely generating sample points ${\\bf x}_j \\in X$ in the feature space, classifying them, and then plotting and coloring them according to their predicted label."
   ]
  },
  {
   "cell_type": "markdown",
   "metadata": {},
   "source": [
    "Let the ccds and priors be given as:\n",
    "    "
   ]
  },
  {
   "cell_type": "markdown",
   "metadata": {},
   "source": [
    "$$\\rho({\\bf x}|y_1) \\sim N({\\bf \\mu}_1, \\Sigma_1)  \\text{ and } P(y_1) = 0.5\\,\\, \\text{ where } \\,\\, \n",
    "{\\bf \\mu}_1 = \\left[\\begin{array}{c} 1 \\\\ 1  \\end{array} \\right]\n",
    "\\,\\, \\text{ and } \n",
    "\\Sigma_1 = \\left[\\begin{array}{cc} 1 & 0 \\\\ 0 & 0.5  \\end{array} \\right] $$\n"
   ]
  },
  {
   "cell_type": "markdown",
   "metadata": {},
   "source": [
    "#### $$\\rho({\\bf x}|y_2) \\sim N({\\bf \\mu}_2, \\Sigma_2)  \\text{ and } P(y_2) = 0.4\\,\\, \\text{ where } \\,\\, \n",
    "{\\bf \\mu}_2 = \\left[\\begin{array}{c} 1 \\\\ 0  \\end{array} \\right]\n",
    "\\,\\, \\text{ and } \n",
    "\\Sigma_2 = \\left[\\begin{array}{cc} 0.5 & 0 \\\\ 0 & 1  \\end{array} \\right] $$\n"
   ]
  },
  {
   "cell_type": "markdown",
   "metadata": {},
   "source": [
    "$$\\rho({\\bf x}|y_3) \\sim N({\\bf \\mu}_3, \\Sigma_3)  \\text{ and } P(y_3) = 0.1\\,\\, \\text{ where } \\,\\, \n",
    "{\\bf \\mu}_3 = \\left[\\begin{array}{c} 0 \\\\ -1  \\end{array} \\right]\n",
    "\\,\\, \\text{ and } \n",
    "\\Sigma_3 = \\left[\\begin{array}{cc} 2.0 & 0 \\\\ 0 & 0.5  \\end{array} \\right] $$"
   ]
  },
  {
   "cell_type": "markdown",
   "metadata": {},
   "source": [
    "Remember all you need to do is to use Bayes theorem to get the expression for $P(y_i|{\\bf x})$, then for each sample ${\\bf x}_j \\in X$ choose the $i$ with the highest aposteriori probability. Do not use any statisical packages to do this other than numpy."
   ]
  },
  {
   "cell_type": "code",
   "execution_count": 1,
   "metadata": {
    "collapsed": true
   },
   "outputs": [],
   "source": [
    "import numpy as np\n",
    "import random\n",
    "import matplotlib.pyplot as plt"
   ]
  },
  {
   "cell_type": "code",
   "execution_count": null,
   "metadata": {
    "collapsed": true
   },
   "outputs": [],
   "source": []
  },
  {
   "cell_type": "markdown",
   "metadata": {},
   "source": [
    "#### Problem 2"
   ]
  },
  {
   "cell_type": "markdown",
   "metadata": {},
   "source": [
    "Implement the Pegasos algorithm for finding a linear SVM classifier which separates the training data generated below. Experiment with three different choices for the regularization parameter and plot the resulting separating plane. Explain how the choice of C effects the resulting solution. Hint: the algorithm might show better convergence if you use the projection normalization step. Also, you can consult with any literature beyond the course notes, but you must write your own code."
   ]
  },
  {
   "cell_type": "code",
   "execution_count": 2,
   "metadata": {
    "collapsed": true
   },
   "outputs": [],
   "source": [
    "import numpy as np\n",
    "import random\n",
    "import pandas as pd\n",
    "import matplotlib.pyplot as plt"
   ]
  },
  {
   "cell_type": "code",
   "execution_count": 3,
   "metadata": {
    "collapsed": false
   },
   "outputs": [
    {
     "data": {
      "text/html": [
       "<div>\n",
       "<table border=\"1\" class=\"dataframe\">\n",
       "  <thead>\n",
       "    <tr style=\"text-align: right;\">\n",
       "      <th></th>\n",
       "      <th>x1</th>\n",
       "      <th>x2</th>\n",
       "      <th>y</th>\n",
       "    </tr>\n",
       "  </thead>\n",
       "  <tbody>\n",
       "    <tr>\n",
       "      <th>count</th>\n",
       "      <td>5.000000e+02</td>\n",
       "      <td>5.000000e+02</td>\n",
       "      <td>500.000000</td>\n",
       "    </tr>\n",
       "    <tr>\n",
       "      <th>mean</th>\n",
       "      <td>-2.131628e-17</td>\n",
       "      <td>-2.096101e-16</td>\n",
       "      <td>0.020000</td>\n",
       "    </tr>\n",
       "    <tr>\n",
       "      <th>std</th>\n",
       "      <td>1.000000e+00</td>\n",
       "      <td>1.000000e+00</td>\n",
       "      <td>1.000801</td>\n",
       "    </tr>\n",
       "    <tr>\n",
       "      <th>min</th>\n",
       "      <td>-1.748628e+00</td>\n",
       "      <td>-1.716104e+00</td>\n",
       "      <td>-1.000000</td>\n",
       "    </tr>\n",
       "    <tr>\n",
       "      <th>25%</th>\n",
       "      <td>-8.296796e-01</td>\n",
       "      <td>-9.170211e-01</td>\n",
       "      <td>-1.000000</td>\n",
       "    </tr>\n",
       "    <tr>\n",
       "      <th>50%</th>\n",
       "      <td>-8.576856e-02</td>\n",
       "      <td>4.274736e-02</td>\n",
       "      <td>1.000000</td>\n",
       "    </tr>\n",
       "    <tr>\n",
       "      <th>75%</th>\n",
       "      <td>8.769398e-01</td>\n",
       "      <td>9.135583e-01</td>\n",
       "      <td>1.000000</td>\n",
       "    </tr>\n",
       "    <tr>\n",
       "      <th>max</th>\n",
       "      <td>1.752129e+00</td>\n",
       "      <td>1.807074e+00</td>\n",
       "      <td>1.000000</td>\n",
       "    </tr>\n",
       "  </tbody>\n",
       "</table>\n",
       "</div>"
      ],
      "text/plain": [
       "                 x1            x2           y\n",
       "count  5.000000e+02  5.000000e+02  500.000000\n",
       "mean  -2.131628e-17 -2.096101e-16    0.020000\n",
       "std    1.000000e+00  1.000000e+00    1.000801\n",
       "min   -1.748628e+00 -1.716104e+00   -1.000000\n",
       "25%   -8.296796e-01 -9.170211e-01   -1.000000\n",
       "50%   -8.576856e-02  4.274736e-02    1.000000\n",
       "75%    8.769398e-01  9.135583e-01    1.000000\n",
       "max    1.752129e+00  1.807074e+00    1.000000"
      ]
     },
     "execution_count": 3,
     "metadata": {},
     "output_type": "execute_result"
    }
   ],
   "source": [
    "# Let's make up some random data to use to build our SVM classifier\n",
    "data = pd.DataFrame(np.zeros((500, 3)), columns=['x1', 'x2', 'y'])\n",
    "\n",
    "for i in range(len(data.index)):\n",
    "    x1 = random.randint(20,100)\n",
    "    if np.random.random() > 0.5:\n",
    "        data.iloc[i,0] = 1.0 * x1 \n",
    "        data.iloc[i,1] = 0.25 * x1 + 60.0 * (random.random() - 0.5) + 65.0\n",
    "        data.iloc[i,2] = 1.0\n",
    "    else:\n",
    "        data.iloc[i,0] = 1.0 * x1\n",
    "        data.iloc[i,1] = 0.24 * x1 + 40.0 * (random.random() - 0.5) + 0.0 \n",
    "        data.iloc[i,2] = -1.0\n",
    "    \n",
    "# Add in a stray point\n",
    "data.iloc[0,0] = 50.0\n",
    "data.iloc[0,1] = 0.25 * x1 + 25.0\n",
    "data.iloc[0,2] = 1.0\n",
    "\n",
    "# Now let's normalize this data.\n",
    "\n",
    "data.iloc[:,0] = (data.iloc[:,0] - data['x1'].mean()) / data['x1'].std()\n",
    "data.iloc[:,1] = (data.iloc[:,1] - data['x2'].mean()) / data['x2'].std()\n",
    "\n",
    "data.head()\n",
    "data.describe()"
   ]
  },
  {
   "cell_type": "code",
   "execution_count": 4,
   "metadata": {
    "collapsed": true
   },
   "outputs": [],
   "source": [
    "# set X (training data) and y (target variable)\n",
    "cols = data.shape[1]\n",
    "X = data.iloc[:,0:cols-1]\n",
    "y = data.iloc[:,cols-1:cols]\n",
    "\n",
    "X = np.matrix(X.values)\n",
    "y = np.matrix(y.values)"
   ]
  },
  {
   "cell_type": "code",
   "execution_count": 5,
   "metadata": {
    "collapsed": true
   },
   "outputs": [],
   "source": [
    "# Sloppy function for plotting our data\n",
    "def plot_data(X, y):\n",
    "    \n",
    "    fig, ax = plt.subplots(figsize=(12,8))\n",
    "    ax.margins(0.05) # Optional, just adds 5% padding to the autoscaling\n",
    "\n",
    "    y_predict = y > 0\n",
    "    indices_0 = [k for k in range(0, X.shape[0]) if not y_predict[k]]\n",
    "    indices_1 = [k for k in range(0, X.shape[0]) if y_predict[k]]\n",
    "\n",
    "    ax.plot(X[indices_0, 0], X[indices_0,1], marker='o', linestyle='', ms=5, label='-1')\n",
    "    ax.plot(X[indices_1, 0], X[indices_1,1], marker='o', linestyle='', ms=5, label='1')\n",
    "\n",
    "    ax.legend()\n",
    "    ax.legend(loc=2)\n",
    "    ax.set_xlabel('x1')\n",
    "    ax.set_ylabel('x2')\n",
    "    ax.set_title('Training Data')\n",
    "    plt.show()"
   ]
  },
  {
   "cell_type": "code",
   "execution_count": 6,
   "metadata": {
    "collapsed": false
   },
   "outputs": [
    {
     "data": {
      "image/png": "[encoded data removed]",
      "text/plain": [
       "<matplotlib.figure.Figure at 0x113888990>"
      ]
     },
     "metadata": {},
     "output_type": "display_data"
    }
   ],
   "source": [
    "plot_data(X,y)"
   ]
  },
  {
   "cell_type": "code",
   "execution_count": null,
   "metadata": {
    "collapsed": true
   },
   "outputs": [],
   "source": []
  },
  {
   "cell_type": "code",
   "execution_count": null,
   "metadata": {
    "collapsed": true
   },
   "outputs": [],
   "source": []
  },
  {
   "cell_type": "code",
   "execution_count": null,
   "metadata": {
    "collapsed": true
   },
   "outputs": [],
   "source": []
  },
  {
   "cell_type": "code",
   "execution_count": null,
   "metadata": {
    "collapsed": true
   },
   "outputs": [],
   "source": []
  }
 ],
 "metadata": {
  "kernelspec": {
   "display_name": "Python 2",
   "language": "python",
   "name": "python2"
  },
  "language_info": {
   "codemirror_mode": {
    "name": "ipython",
    "version": 2
   },
   "file_extension": ".py",
   "mimetype": "text/x-python",
   "name": "python",
   "nbconvert_exporter": "python",
   "pygments_lexer": "ipython2",
   "version": "2.7.13"
  }
 },
 "nbformat": 4,
 "nbformat_minor": 2
}
