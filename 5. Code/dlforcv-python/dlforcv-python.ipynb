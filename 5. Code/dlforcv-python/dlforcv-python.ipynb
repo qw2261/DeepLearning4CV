{
 "cells": [
  {
   "cell_type": "markdown",
   "metadata": {},
   "source": [
    "<center style=\"font-weight: bold;\">\n",
    "\n",
    "<span style=\"font-size:40px;\">\n",
    "Deep Learning for Computer Vision\n",
    "</span>\n",
    "<br>\n",
    "http://deeplearningforcomputervision.com/\n",
    "\n",
    "<br><br>\n",
    "\n",
    "<span style=\"font-size:20px;\">\n",
    "An Introduction to Python\n",
    "</span>\n",
    "\n",
    "<br><br>\n",
    "\n",
    "<span style=\"font-size:20px;\">\n",
    "Yogesh Garg\n",
    "</span>\n",
    "<br>\n",
    "Jan 26, 2017\n",
    "<br>\n",
    "</center>\n",
    "\n",
    "**Contents**\n",
    "\n",
    "<div id=\"toc\"><ul class=\"toc\"><li><a href=\"#About\">I. About</a><a class=\"anchor-link\" href=\"#About\">¶</a></li><li><a href=\"#Installation\">II. Installation</a><a class=\"anchor-link\" href=\"#Installation\">¶</a></li><ul class=\"toc\"><li><a href=\"#Issues\">I. Issues</a><a class=\"anchor-link\" href=\"#Issues\">¶</a></li><li><a href=\"#Steps\">II. Steps</a><a class=\"anchor-link\" href=\"#Steps\">¶</a></li><li><a href=\"#Homebrew\">III. Homebrew</a><a class=\"anchor-link\" href=\"#Homebrew\">¶</a></li><li><a href=\"#VirtualEnv\">IV. VirtualEnv</a><a class=\"anchor-link\" href=\"#VirtualEnv\">¶</a></li><li><a href=\"#Pip\">V. Pip</a><a class=\"anchor-link\" href=\"#Pip\">¶</a></li></ul><li><a href=\"#Python-Basics\">III. Python Basics</a><a class=\"anchor-link\" href=\"#Python-Basics\">¶</a></li><ul class=\"toc\"><li><a href=\"#Integers,-Float,-Lists\">I. Integers, Float, Lists</a><a class=\"anchor-link\" href=\"#Integers,-Float,-Lists\">¶</a></li><li><a href=\"#Strings,-Multiline-Strings,-Slicing\">II. Strings, Multiline Strings, Slicing</a><a class=\"anchor-link\" href=\"#Strings,-Multiline-Strings,-Slicing\">¶</a></li><li><a href=\"#Control-Flow\">III. Control Flow</a><a class=\"anchor-link\" href=\"#Control-Flow\">¶</a></li><li><a href=\"#Exception-Handling-and-Assertions\">IV. Exception Handling and Assertions</a><a class=\"anchor-link\" href=\"#Exception-Handling-and-Assertions\">¶</a></li><li><a href=\"#Containers\">V. Containers</a><a class=\"anchor-link\" href=\"#Containers\">¶</a></li><ul class=\"toc\"><li><a href=\"#Sets\">I. Sets</a><a class=\"anchor-link\" href=\"#Sets\">¶</a></li><li><a href=\"#Dictionaries\">II. Dictionaries</a><a class=\"anchor-link\" href=\"#Dictionaries\">¶</a></li><li><a href=\"#More-from-Collections\">III. More from Collections</a><a class=\"anchor-link\" href=\"#More-from-Collections\">¶</a></li></ul><li><a href=\"#Functions,-Lambdas\">VI. Functions, Lambdas</a><a class=\"anchor-link\" href=\"#Functions,-Lambdas\">¶</a></li><li><a href=\"#Classes\">VII. Classes</a><a class=\"anchor-link\" href=\"#Classes\">¶</a></li><li><a href=\"#Best-Practices\">VIII. Best Practices</a><a class=\"anchor-link\" href=\"#Best-Practices\">¶</a></li><ul class=\"toc\"><li><a href=\"#Git\">I. Git</a><a class=\"anchor-link\" href=\"#Git\">¶</a></li><li><a href=\"#Logging\">II. Logging</a><a class=\"anchor-link\" href=\"#Logging\">¶</a></li></ul></ul><li><a href=\"#Numpy-Basics\">IV. Numpy Basics</a><a class=\"anchor-link\" href=\"#Numpy-Basics\">¶</a></li><ul class=\"toc\"><li><a href=\"#Arrays\">I. Arrays</a><a class=\"anchor-link\" href=\"#Arrays\">¶</a></li><ul class=\"toc\"><li><a href=\"#Vectors\">I. Vectors</a><a class=\"anchor-link\" href=\"#Vectors\">¶</a></li><li><a href=\"#Matrices\">II. Matrices</a><a class=\"anchor-link\" href=\"#Matrices\">¶</a></li></ul><li><a href=\"#Some-Numpy-Functions\">II. Some Numpy Functions</a><a class=\"anchor-link\" href=\"#Some-Numpy-Functions\">¶</a></li><li><a href=\"#Utility-function-to-inspect-numpy-variables\">III. Utility function to inspect numpy variables</a><a class=\"anchor-link\" href=\"#Utility-function-to-inspect-numpy-variables\">¶</a></li><li><a href=\"#Numpy-Types\">IV. Numpy Types</a><a class=\"anchor-link\" href=\"#Numpy-Types\">¶</a></li><li><a href=\"#Slicing\">V. Slicing</a><a class=\"anchor-link\" href=\"#Slicing\">¶</a></li><ul class=\"toc\"><li><a href=\"#Single-row-or-col-as-a-row\">I. Single row or col as a row</a><a class=\"anchor-link\" href=\"#Single-row-or-col-as-a-row\">¶</a></li><li><a href=\"#Multiple-rows-or-cols-as-a-mat\">II. Multiple rows or cols as a mat</a><a class=\"anchor-link\" href=\"#Multiple-rows-or-cols-as-a-mat\">¶</a></li><li><a href=\"#Slicing-using-lists\">III. Slicing using lists</a><a class=\"anchor-link\" href=\"#Slicing-using-lists\">¶</a></li><li><a href=\"#Slice-as-an-object\">IV. Slice as an object</a><a class=\"anchor-link\" href=\"#Slice-as-an-object\">¶</a></li><li><a href=\"#Slicing-using-indices\">V. Slicing using indices</a><a class=\"anchor-link\" href=\"#Slicing-using-indices\">¶</a></li></ul><li><a href=\"#Axes\">VI. Axes</a><a class=\"anchor-link\" href=\"#Axes\">¶</a></li><li><a href=\"#Broadcasting\">VII. Broadcasting</a><a class=\"anchor-link\" href=\"#Broadcasting\">¶</a></li><li><a href=\"#What-happened?\">VIII. What happened?</a><a class=\"anchor-link\" href=\"#What-happened?\">¶</a></li></ul><li><a href=\"#References\">V. References</a><a class=\"anchor-link\" href=\"#References\">¶</a></li></ul></div>\n",
    "\n",
    "<!--script type=\"text/javascript\" src=\"https://raw.github.com/kmahelona/ipython_notebook_goodies/master/ipython_notebook_toc.js\"-->"
   ]
  },
  {
   "cell_type": "markdown",
   "metadata": {},
   "source": [
    "# About\n",
    "This Notebook aims to give a refersher in Python. It talks about various issues, best practices, and a few tricks that have earlier proven to be useful. It also provides a few cookbook style code snippets to allow you to start using certain features faster.\n"
   ]
  },
  {
   "cell_type": "markdown",
   "metadata": {},
   "source": [
    "# Installation\n",
    "## Issues\n",
    "\n",
    "* It is a good idea to keep your working version of Python independent of the version that your system uses\n",
    "* Depending on your project, you may wanna use python2.6 or python2.7\n",
    "* You may want to install different packages or same packages with different versions for different projects\n",
    "* These changes could interfere with the system and/or make it slower\n",
    "* Rule of thumb: you should not have to ```sudo```\n",
    "* Follow the installation steps from a good source, like, [The Hitchhiker’s Guide to Python!] > [Properly Installing Python]\n",
    "[The Hitchhiker’s Guide to Python!]: http://docs.python-guide.org/en/latest/\n",
    "[Properly Installing Python]: http://docs.python-guide.org/en/latest/starting/installation/\n"
   ]
  },
  {
   "cell_type": "markdown",
   "metadata": {},
   "source": [
    "## Steps\n",
    "We follow the steps for [Installing Python on Mac OS X](http://docs.python-guide.org/en/latest/starting/install/osx/)\n",
    "\n",
    "``` bash\n",
    "# Install **Homebrew**\n",
    "/usr/bin/ruby -e \"$(curl -fsSL https://raw.githubusercontent.com/Homebrew/install/master/install)\"\n",
    "\n",
    "# Setup path to ensure brew is executable\n",
    "# Also goes in .bashrc, .profile, or .bash_profile\n",
    "export PATH=/usr/local/bin:/usr/local/sbin:$PATH\n",
    "\n",
    "# Install Python\n",
    "brew install python\n",
    "# Ensure you have **Pip** also installed\n",
    "which python\n",
    "which pip\n",
    "\n",
    "# Install **VirtualEnv**\n",
    "pip install virtualenv\n",
    "\n",
    "# setup directories and coding environment\n",
    "mkdir -p ~/code/dlforcv/\n",
    "cd ~/code/dlforcv/\n",
    "mkdir data                 # for data\n",
    "mkdir archive              # for zip files\n",
    "mkdir docs                 # for documents\n",
    "mkdir src                  # for working code files\n",
    "mkdir scripts              # for scripts to run code, setup environment etc\n",
    "virtualenv venv            # this will contain all your packages etc\n",
    "source venv/bin/activate   # (venv) suffix is added to your prompt\n",
    "which python               # should refer to python in ~/code/dlforcv/venv/bin\n",
    "which pip                  # should refer to pip in ~/code/dlforcv/venv/bin\n",
    "\n",
    "# install requirements\n",
    "pip install numpy\n",
    "pip install -r requirements.txt\n",
    "\n",
    "# start coding!\n",
    "echo \"print 'Hello World!'\" > src/hw.py\n",
    "python src/hw.py\n",
    "\n",
    "# Run this notebook in ipython/jupyter notebook\n",
    "pip install ipython notebook\n",
    "\n",
    "# download this notebook from source to ~/code/dlforcv/scripts/dlforcv-python.ipynb\n",
    "ipython notebook                    # starts a server, opens a browser\n",
    "\n",
    "# navigate to scripts, and open this dlforcv-python.ipynb\n",
    "```"
   ]
  },
  {
   "cell_type": "markdown",
   "metadata": {},
   "source": [
    "## Homebrew\n",
    "[Homebrew] manages your packages for you -- including python, many other packages used by developers\n",
    "## VirtualEnv\n",
    "[VirtualEnv] allows you to manage different requirements for different projects\n",
    "## Pip\n",
    "[Pip] helps you Properly Install Python\n",
    "\n",
    "[Homebrew]: http://brew.sh/\n",
    "[VirtualEnv]: http://docs.python-guide.org/en/latest/dev/virtualenvs/#virtualenvironments-ref\n",
    "[Pip]: http://docs.python-guide.org/en/latest/starting/installation/\n",
    "\n"
   ]
  },
  {
   "cell_type": "markdown",
   "metadata": {},
   "source": [
    "# Python Basics\n",
    "\n",
    "It is recommended to go through sections 3-9 from [The Python Tutorial]. You should be familiar with the following concepts:\n",
    "[The Python Tutorial]: https://docs.python.org/2.7/tutorial/\n"
   ]
  },
  {
   "cell_type": "markdown",
   "metadata": {},
   "source": [
    "## Integers, Float, Lists\n",
    "* You have ints, floats\n",
    "* Notice the **list comprehension** syntax\n",
    "* You also have support for lists\n",
    "    - add\n",
    "    - extend\n",
    "    - pop\n",
    "* pay attention to list referencing and copying\n",
    "* ```==``` checks for equality\n",
    "* ```is``` checks for identity"
   ]
  },
  {
   "cell_type": "code",
   "execution_count": 1,
   "metadata": {
    "collapsed": false
   },
   "outputs": [
    {
     "name": "stdout",
     "output_type": "stream",
     "text": [
      "[1, 4, 9, 10, 20]\n",
      "[1, 4, 9, 10, 20]\n",
      "[1, 4, 9, 10, 20]\n",
      "True\n",
      "True\n",
      "True\n",
      "False\n",
      "[1, 4, 9, 10]\n",
      "[1, 4, 9, 10]\n",
      "[1, 4, 9, 10, 20]\n",
      "True\n",
      "True\n",
      "False\n",
      "False\n"
     ]
    }
   ],
   "source": [
    "a = 10\n",
    "b = 3.14\n",
    "l = [x**2 for x in range(1,4)]\n",
    "l.append(a)\n",
    "l.extend([a*2])\n",
    "\n",
    "l2 = l\n",
    "l3 = list(l)\n",
    "print l\n",
    "print l2\n",
    "print l3\n",
    "print l == l2\n",
    "print l is l2\n",
    "print l == l3\n",
    "print l is l3\n",
    "\n",
    "l2.pop()\n",
    "print l\n",
    "print l2\n",
    "print l3\n",
    "print l == l2\n",
    "print l is l2\n",
    "print l == l3\n",
    "print l is l3"
   ]
  },
  {
   "cell_type": "markdown",
   "metadata": {},
   "source": [
    "## Strings, Multiline Strings, Slicing"
   ]
  },
  {
   "cell_type": "code",
   "execution_count": 2,
   "metadata": {
    "collapsed": false
   },
   "outputs": [
    {
     "name": "stdout",
     "output_type": "stream",
     "text": [
      "('Hello', 'World')\n"
     ]
    }
   ],
   "source": [
    "s1 = 'Hello World'\n",
    "s2 = '''\n",
    "Hello\n",
    "World\n",
    "'''\n",
    "print str((s1[:5], s1[-5:]))"
   ]
  },
  {
   "cell_type": "markdown",
   "metadata": {},
   "source": [
    "## Control Flow"
   ]
  },
  {
   "cell_type": "code",
   "execution_count": 3,
   "metadata": {
    "collapsed": false
   },
   "outputs": [
    {
     "name": "stdout",
     "output_type": "stream",
     "text": [
      "Case 2\n",
      "1\n",
      "2\n",
      "0 H\n",
      "1 W\n",
      "inside loop\n"
     ]
    }
   ],
   "source": [
    "(a,b)=(10,3.15)\n",
    "\n",
    "if(a<b):\n",
    "    print 'Case 1'\n",
    "elif (a>b):\n",
    "    print 'Case 2'\n",
    "else: # a==b\n",
    "    print 'Case 3'\n",
    "\n",
    "l = [1,2]\n",
    "for x in l:\n",
    "    print x\n",
    "\n",
    "s1 = \"HW\"\n",
    "for i,c in enumerate(s1):\n",
    "    print i,c\n",
    "\n",
    "while(True):\n",
    "    print 'inside loop'\n",
    "    break\n"
   ]
  },
  {
   "cell_type": "markdown",
   "metadata": {},
   "source": [
    "## Exception Handling and Assertions"
   ]
  },
  {
   "cell_type": "code",
   "execution_count": 4,
   "metadata": {
    "collapsed": false
   },
   "outputs": [
    {
     "name": "stdout",
     "output_type": "stream",
     "text": [
      "before error\n",
      "handle error\n",
      "asserting 1==1.0\n",
      "asserting 1==1.00000001\n",
      "assertion failed\n"
     ]
    }
   ],
   "source": [
    "try:\n",
    "    print 'before error'\n",
    "    raise ValueError('ab')\n",
    "    print 'after error'\n",
    "except Exception as e:\n",
    "    print 'handle error'\n",
    "    pass\n",
    "\n",
    "print 'asserting 1==1.0'\n",
    "assert 1==1.0\n",
    "print 'asserting 1==1.00000001'\n",
    "try:\n",
    "    assert 1==1.00000001\n",
    "except Exception as e:\n",
    "    print 'assertion failed'"
   ]
  },
  {
   "cell_type": "markdown",
   "metadata": {},
   "source": [
    "## Containers\n",
    "\n",
    "* Some basic containers include Lists, Dictionaries, Sets\n",
    "* Advanced containers can be found in [collections module]\n",
    "\n",
    "[Collections module]: https://docs.python.org/2/library/collections.html"
   ]
  },
  {
   "cell_type": "code",
   "execution_count": 5,
   "metadata": {
    "collapsed": false
   },
   "outputs": [],
   "source": [
    "from collections import defaultdict, Counter, OrderedDict"
   ]
  },
  {
   "cell_type": "markdown",
   "metadata": {},
   "source": [
    "### Sets\n",
    " * you can add or remove items from a set\n",
    " * if set contains an element, adding it again does not make a difference"
   ]
  },
  {
   "cell_type": "code",
   "execution_count": 6,
   "metadata": {
    "collapsed": false
   },
   "outputs": [
    {
     "name": "stdout",
     "output_type": "stream",
     "text": [
      "set([2, 3, 4])\n",
      "(False, True)\n"
     ]
    }
   ],
   "source": [
    "s = set([1,2,3])\n",
    "s.add(4)\n",
    "s.add(1)\n",
    "s.remove(1)\n",
    "print s\n",
    "print ((1 in s), (2 in s))\n",
    "s.clear()"
   ]
  },
  {
   "cell_type": "markdown",
   "metadata": {},
   "source": [
    "### Dictionaries\n",
    "* Notice the very useful **dictionary comprehension** notation\n",
    "* following operations are supported:\n",
    "    - get_item\n",
    "    - set_item\n",
    "    - has_key\n",
    "    - (safe) get (None or default value)"
   ]
  },
  {
   "cell_type": "code",
   "execution_count": 7,
   "metadata": {
    "collapsed": false
   },
   "outputs": [
    {
     "name": "stdout",
     "output_type": "stream",
     "text": [
      "1\n",
      "<type 'exceptions.KeyError'> 'beta'\n",
      "None\n",
      "-1\n",
      "{'1': 1, '0': 0, '2': 2, 'gamma': 2, 'alpha': 1}\n"
     ]
    }
   ],
   "source": [
    "d1 = {str(i):i for i in range(3)}\n",
    "d1['alpha'] = 1\n",
    "d1.has_key('beta')\n",
    "try:\n",
    "    print d1['alpha']\n",
    "    print d1['beta']\n",
    "except Exception as e:\n",
    "    print type(e), e\n",
    "d1['gamma'] = 2\n",
    "print d1.get('beta')\n",
    "print d1.get('beta', -1)\n",
    "print d1"
   ]
  },
  {
   "cell_type": "markdown",
   "metadata": {},
   "source": [
    "### More from Collections\n",
    " * defaultdict creates an object when a key is first accessed (get_item/set_item)\n",
    " * Counter can be used to count occurences of keys\n",
    " * OrderedDict preserves the **sequence in which keys were added**"
   ]
  },
  {
   "cell_type": "code",
   "execution_count": 8,
   "metadata": {
    "collapsed": false
   },
   "outputs": [
    {
     "name": "stdout",
     "output_type": "stream",
     "text": [
      "defaultdict(<type 'str'>, {'a': 'wassup'})\n",
      "a: wassup\n",
      "b: \n",
      "defaultdict(<type 'str'>, {'a': 'wassup', 'b': ''})\n"
     ]
    }
   ],
   "source": [
    "dd = defaultdict(str)\n",
    "dd['a'] = 'wassup'\n",
    "print dd\n",
    "print 'a:', dd['a']\n",
    "print 'b:', dd['b']\n",
    "print dd"
   ]
  },
  {
   "cell_type": "code",
   "execution_count": 9,
   "metadata": {
    "collapsed": false
   },
   "outputs": [
    {
     "name": "stdout",
     "output_type": "stream",
     "text": [
      "1\n",
      "0\n"
     ]
    }
   ],
   "source": [
    "c = Counter()\n",
    "c['a']+=1\n",
    "print c['a']\n",
    "print c['b']"
   ]
  },
  {
   "cell_type": "code",
   "execution_count": 10,
   "metadata": {
    "collapsed": false
   },
   "outputs": [
    {
     "name": "stdout",
     "output_type": "stream",
     "text": [
      "OrderedDict([('alpha', 1), ('gamma', 2), ('beta', 3)])\n"
     ]
    }
   ],
   "source": [
    "d2 = OrderedDict()\n",
    "d2['alpha'] = 1\n",
    "d2['gamma'] = 2\n",
    "d2['beta'] = 3\n",
    "print d2"
   ]
  },
  {
   "cell_type": "markdown",
   "metadata": {},
   "source": [
    "## Functions, Lambdas\n",
    "\n",
    "* Lambdas are just single-statement functions that return something\n",
    "* useful for [functional programming] -- map, reduce, filter\n",
    "\n",
    "[functional programming]: https://docs.python.org/2/tutorial/datastructures.html#functional-programming-tools"
   ]
  },
  {
   "cell_type": "code",
   "execution_count": 11,
   "metadata": {
    "collapsed": false
   },
   "outputs": [
    {
     "name": "stdout",
     "output_type": "stream",
     "text": [
      "\tprinting inside function 2\n",
      "4\n",
      "4\n",
      "[0, 1, 4, 9, 16, 25, 36, 49, 64, 81]\n"
     ]
    }
   ],
   "source": [
    "def f1(a):\n",
    "    print '\\tprinting inside function', a\n",
    "    return a**2\n",
    "\n",
    "f2 = lambda x: x**2\n",
    "\n",
    "print f1(2)\n",
    "print f2(2)\n",
    "\n",
    "l1 = range(10)\n",
    "print map(f2, l1)"
   ]
  },
  {
   "cell_type": "markdown",
   "metadata": {},
   "source": [
    "## Classes\n",
    "\n",
    "In the following example,\n",
    "* ```MyClass1``` is a sub-class of ```object```\n",
    "* ```__init__``` is the constructor\n",
    "* ```alpha``` is a 'public' member variable\n",
    "* ```_beta``` is a 'private' member variable\n",
    "* ```setBeta``` and ```getAlphaBeta``` are class functions"
   ]
  },
  {
   "cell_type": "code",
   "execution_count": 12,
   "metadata": {
    "collapsed": true
   },
   "outputs": [],
   "source": [
    "class MyClass1(object):\n",
    "    \"\"\"this is the doc string\n",
    "    provide more information here\"\"\"\n",
    "    \n",
    "    def __init__(self, a1, b1=0):\n",
    "        \"\"\"\n",
    "        :param a1: int\n",
    "        value for alpha\n",
    "        \n",
    "        :param b1: int\n",
    "        value for beta\n",
    "        \"\"\"\n",
    "        assert type(a1) == int\n",
    "        assert type(b1) == int\n",
    "        self.alpha = a1\n",
    "        self._beta = b1\n",
    "        return\n",
    "    \n",
    "    def setBeta(self, b):\n",
    "        \"\"\"\n",
    "        :param b: int\n",
    "        value for beta\n",
    "        \"\"\"\n",
    "        self._beta = b\n",
    "        return\n",
    "\n",
    "    def getAlphaBeta(self):\n",
    "        return self.alpha * self._beta\n",
    "\n",
    "# end My Class"
   ]
  },
  {
   "cell_type": "markdown",
   "metadata": {
    "collapsed": false
   },
   "source": [
    "\n",
    "Some advice,\n",
    "* _Just because you could, does not mean you should_\n",
    "    - You could have functions in a class that do not have a ```self``` parameter\n",
    "    - You could define member outside the constructor\n",
    "* always have a return statement in your functions, helps to see where a function ends\n",
    "* document parameter types for your own sanity\n",
    "* if you need to take it one step further, check types in the begining of your function\n",
    "* in ipython, check document strings using '?'\n",
    "```python\n",
    "o1 = MyClass1?\n",
    "o1.setBeta?\n",
    "```"
   ]
  },
  {
   "cell_type": "code",
   "execution_count": 13,
   "metadata": {
    "collapsed": false
   },
   "outputs": [
    {
     "name": "stdout",
     "output_type": "stream",
     "text": [
      "2\n",
      "0\n",
      "2\n"
     ]
    }
   ],
   "source": [
    "o1 = MyClass1(2)\n",
    "print o1.alpha\n",
    "print o1.getAlphaBeta()\n",
    "o1.setBeta(1)\n",
    "print o1.getAlphaBeta()\n"
   ]
  },
  {
   "cell_type": "markdown",
   "metadata": {},
   "source": [
    "## Best Practices\n",
    "\n",
    "* if name is main\n",
    "    - in a python file (.py), you should only define functions and classes\n",
    "    - No code should be executed\n",
    "    - How do I run code then?\n",
    "        ``` python\n",
    "        #!/usr/bin/python\n",
    "        # contents of sample.py\n",
    "        \n",
    "        class C1():\n",
    "            def __init__(self):\n",
    "                self.c=0\n",
    "                return\n",
    "            def f1(self):\n",
    "                self.c+=1\n",
    "                return self.c\n",
    "        def f2(x+y):\n",
    "            return x+y\n",
    "            \n",
    "        def main():\n",
    "            o1 = C1()\n",
    "            print f2(o1.f1(), o1.f1 )\n",
    "        \n",
    "        if __name__ == '__main__':\n",
    "            main()\n",
    "    ```\n",
    "* Documentation\n",
    "    - Add comments to state the 'intent of code'\n",
    "    - Add doc strings for classes and functions for TA and more importantly, yourself!\n",
    "    - Always add a note of what type you want your arguments, check using assert!\n",
    "\n",
    "* Types\n",
    "    - Python is strongly but dynamically typed\n",
    "        * Strongly: You can always check the type of a variable\n",
    "        * Dynamically: that variable name may be changed\n",
    "    ```\n",
    "    a = 1\n",
    "    type(a)\n",
    "    a = 'abc'\n",
    "    type(a)\n",
    "    ```\n",
    "    - _Just because you could, does not mean you should!_\n",
    "* Parameterization and Backwards Compatibility\n",
    "    - Never have constants in your code, PARAMeterize them\n",
    "    - If you add a new parameter to your function, make it a keyword argument with default value that reflects the previous state"
   ]
  },
  {
   "cell_type": "code",
   "execution_count": 14,
   "metadata": {
    "collapsed": false
   },
   "outputs": [
    {
     "name": "stdout",
     "output_type": "stream",
     "text": [
      "old 2\n",
      "new 3\n",
      "new 2\n"
     ]
    }
   ],
   "source": [
    "def f1(x):\n",
    "    return x+1\n",
    "\n",
    "def f1(x):\n",
    "    WHY = 1\n",
    "    return x+WHY\n",
    "print 'old', f1(1)\n",
    "\n",
    "def f1(x, y=1):\n",
    "    return x+y\n",
    "print 'new', f1(1, y=2)\n",
    "print 'new', f1(1)"
   ]
  },
  {
   "cell_type": "markdown",
   "metadata": {},
   "source": [
    "### Git\n",
    "* Use Git for version control\n",
    "* Once you make a commit, it can never be lost (until you destroy the repo)\n",
    "* List of most frequently used commands\n",
    "  ```bash\n",
    "  git pull github.com/usrename/repo.git  # pull from a *remote* repo\n",
    "  # git init                                 # or init a new one\n",
    "  git pull origin master                 # pull changes from origin to local/master\n",
    "  git status                             # check modified / new / deleted files\n",
    "  git add f1.py                          # stage a file to be commited\n",
    "  git commit -m \"\"                       # commit all staged files\n",
    "  git push origin master                 # push to origin, your local master branch\n",
    "  ```\n"
   ]
  },
  {
   "cell_type": "markdown",
   "metadata": {},
   "source": [
    "### Logging\n",
    "* Have you ever written a print statement inside a loop to debug it?\n",
    "* Did you comment it out because it was printed too many times?\n",
    "* Did you remove the comment when you noticed another bug?\n",
    "* Ever wished your messages had timestamps, name of the class, line number etc?\n",
    "* Say no more, ```import logging```\n",
    "* Do not print, use logging module, it is simple and effective!\n",
    "* Bookmark [Logging Cookbook] and visit when in doubt\n",
    "* Following is a sample on how to use it\n",
    "    - to remove the DEBUG line from the output,\n",
    "    - change the basicConfig from DEBUG to INFO\n",
    "    - restart ipython notebook\n",
    "    - run cell again\n",
    "\n",
    "[Logging Cookbook]: https://docs.python.org/2/howto/logging-cookbook.html"
   ]
  },
  {
   "cell_type": "code",
   "execution_count": 15,
   "metadata": {
    "collapsed": false
   },
   "outputs": [
    {
     "name": "stderr",
     "output_type": "stream",
     "text": [
      "2017-01-28 02:52:12,620 __main__     INFO     some information\n",
      "2017-01-28 02:52:12,622 __main__     DEBUG    debug information\n",
      "2017-01-28 02:52:12,624 __main__     ERROR    2\n",
      "Traceback (most recent call last):\n",
      "  File \"<ipython-input-15-ea7c19b16ac7>\", line 9, in <module>\n",
      "    assert 1==2, 2\n",
      "AssertionError: 2\n",
      "2017-01-28 02:52:12,626 __main__     DEBUG    more debug information\n"
     ]
    }
   ],
   "source": [
    "import logging\n",
    "logging.basicConfig(level=logging.DEBUG,\n",
    "                    format='%(asctime)s %(name)-12s %(levelname)-8s %(message)s')\n",
    "logger = logging.getLogger(__name__)\n",
    "\n",
    "logger.info('some information')\n",
    "logger.debug('debug information')\n",
    "try:\n",
    "    assert 1==2, 2 \n",
    "except Exception as e:\n",
    "    logger.exception(e)\n",
    "logger.debug('more debug information')"
   ]
  },
  {
   "cell_type": "markdown",
   "metadata": {},
   "source": [
    "# Numpy Basics"
   ]
  },
  {
   "cell_type": "code",
   "execution_count": 16,
   "metadata": {
    "collapsed": true
   },
   "outputs": [],
   "source": [
    "import numpy as np"
   ]
  },
  {
   "cell_type": "markdown",
   "metadata": {},
   "source": [
    "## Arrays\n",
    "Numpy arrays can be used to represent n-dimensionals arrays, for any arbitrary n.\n",
    "This notebook demonstrats Vectors (1-d) and Matrices (2-d).\n",
    "\n",
    "### Vectors"
   ]
  },
  {
   "cell_type": "code",
   "execution_count": 17,
   "metadata": {
    "collapsed": false
   },
   "outputs": [
    {
     "name": "stdout",
     "output_type": "stream",
     "text": [
      "[   1    4    9   16   25   36   49   64   81  100  121  144  169  196  225\n",
      "  256  289  324  361  400  441  484  529  576  625  676  729  784  841  900\n",
      "  961 1024 1089 1156 1225 1296 1369 1444 1521 1600 1681 1764 1849 1936 2025\n",
      " 2116 2209 2304 2401 2500]\n",
      "<type 'numpy.ndarray'> \n",
      "(50,) \n",
      "50 \n",
      "int64 \n",
      "\n",
      "[ 1000  2000  3000  4000  5000  6000  7000  8000  9000 10000 11000 12000\n",
      " 13000 14000 15000 16000 17000 18000 19000 20000 21000 22000 23000 24000\n",
      " 25000 26000 27000 28000 29000 30000 31000 32000 33000 34000 35000 36000\n",
      " 37000 38000 39000 40000 41000 42000 43000 44000 45000 46000 47000 48000\n",
      " 49000 50000]\n",
      "[ 1001  2004  3009  4016  5025  6036  7049  8064  9081 10100 11121 12144\n",
      " 13169 14196 15225 16256 17289 18324 19361 20400 21441 22484 23529 24576\n",
      " 25625 26676 27729 28784 29841 30900 31961 33024 34089 35156 36225 37296\n",
      " 38369 39444 40521 41600 42681 43764 44849 45936 47025 48116 49209 50304\n",
      " 51401 52500]\n",
      "[1000  500  333  250  200  166  142  125  111  100   90   83   76   71   66\n",
      "   62   58   55   52   50   47   45   43   41   40   38   37   35   34   33\n",
      "   32   31   30   29   28   27   27   26   25   25   24   23   23   22   22\n",
      "   21   21   20   20   20]\n"
     ]
    }
   ],
   "source": [
    "a = np.array([i**2 for i in range(1,51)])\n",
    "b = np.array([i*1000 for i in range(1,51)])\n",
    "print a\n",
    "print type(a),'\\n',  a.shape,'\\n',  a.size,'\\n',  a.dtype, '\\n'\n",
    "print b\n",
    "print a+b\n",
    "print b/a"
   ]
  },
  {
   "cell_type": "markdown",
   "metadata": {},
   "source": [
    "### Matrices"
   ]
  },
  {
   "cell_type": "code",
   "execution_count": 18,
   "metadata": {
    "collapsed": false
   },
   "outputs": [
    {
     "name": "stdout",
     "output_type": "stream",
     "text": [
      "[[0 1 2 3 4]\n",
      " [1 2 3 4 5]\n",
      " [2 3 4 5 6]\n",
      " [3 4 5 6 7]\n",
      " [4 5 6 7 8]]\n",
      "[[ 0  1  2  3  4]\n",
      " [-1  0  1  2  3]\n",
      " [-2 -1  0  1  2]\n",
      " [-3 -2 -1  0  1]\n",
      " [-4 -3 -2 -1  0]]\n",
      "[[  0   1   4   9  16]\n",
      " [ -1   0   3   8  15]\n",
      " [ -4  -3   0   5  12]\n",
      " [ -9  -8  -5   0   7]\n",
      " [-16 -15 -12  -7   0]]\n"
     ]
    }
   ],
   "source": [
    "a = np.array([[x+y for x in range(5)] for y in range(5)])\n",
    "b = np.array([[x-y for x in range(5)] for y in range(5)])\n",
    "print a\n",
    "print b\n",
    "print a*b"
   ]
  },
  {
   "cell_type": "markdown",
   "metadata": {},
   "source": [
    "## Some Numpy Functions"
   ]
  },
  {
   "cell_type": "code",
   "execution_count": 19,
   "metadata": {
    "collapsed": false
   },
   "outputs": [
    {
     "name": "stdout",
     "output_type": "stream",
     "text": [
      "a:\n",
      "[[ 1.  0.  0.]\n",
      " [ 0.  1.  0.]\n",
      " [ 0.  0.  1.]]\n",
      "b:\n",
      "[[ 0.45844913  0.64152491  0.79392936]\n",
      " [ 0.34891338  0.02345215  0.99182992]\n",
      " [ 0.27257877  0.00897742  0.71619977]]\n",
      "a*b:\n",
      "[[ 0.45844913  0.          0.        ]\n",
      " [ 0.          0.02345215  0.        ]\n",
      " [ 0.          0.          0.71619977]]\n",
      "np.dot(a,b):\n",
      "[[ 0.45844913  0.64152491  0.79392936]\n",
      " [ 0.34891338  0.02345215  0.99182992]\n",
      " [ 0.27257877  0.00897742  0.71619977]]\n",
      "np.dot(b, b.T):\n",
      "[[ 1.25205364  0.96244706  0.69933477]\n",
      " [ 0.96244706  1.10601713  0.80566528]\n",
      " [ 0.69933477  0.80566528  0.58732189]]\n",
      "[[ 1.  1.  1.]\n",
      " [ 1.  1.  1.]\n",
      " [ 1.  1.  1.]]\n",
      "[[ 0.  0.  0.]\n",
      " [ 0.  0.  0.]\n",
      " [ 0.  0.  0.]]\n"
     ]
    }
   ],
   "source": [
    "a = np.eye(3)\n",
    "b = np.random.random((3,3))\n",
    "\n",
    "print 'a:\\n',              a\n",
    "print 'b:\\n',              b\n",
    "print 'a*b:\\n',            a*b\n",
    "print 'np.dot(a,b):\\n',    np.dot(a,b)\n",
    "print 'np.dot(b, b.T):\\n', np.dot(b, b.T)\n",
    "\n",
    "print np.ones((3,3))\n",
    "print np.zeros((3,3))"
   ]
  },
  {
   "cell_type": "markdown",
   "metadata": {},
   "source": [
    "## Utility function to inspect numpy variables"
   ]
  },
  {
   "cell_type": "code",
   "execution_count": 20,
   "metadata": {
    "collapsed": false
   },
   "outputs": [
    {
     "name": "stdout",
     "output_type": "stream",
     "text": [
      "type:<type 'numpy.ndarray'> shape:(3, 3) dtype:float64 \n",
      "[[ 1.  0.  0.]\n",
      " [ 0.  1.  0.]\n",
      " [ 0.  0.  1.]]\n",
      "type:<type 'numpy.ndarray'> shape:(3, 3) dtype:float64 [[ 1.  0.  0.]  [ 0.  ...\n"
     ]
    }
   ],
   "source": [
    "def about(x, LINE=80, SINGLE_LINE=False):\n",
    "    '''\n",
    "    author: Yogesh Garg (https://github.com/yogeshg)\n",
    "    '''\n",
    "    s ='type:'+str(type(x))+' '\n",
    "    try:\n",
    "        s+='shape:'+str(x.shape)+' '\n",
    "    except Exception as e:\n",
    "        pass\n",
    "    try:\n",
    "        s+='dtype:'+str(x.dtype)+' '\n",
    "    except Exception as e:\n",
    "        pass\n",
    "    try:\n",
    "        s1 = str(x)\n",
    "        if(SINGLE_LINE):\n",
    "            s1 = ' '.join(s1.split('\\n'))\n",
    "            extra = (len(s)+len(s1)) - LINE\n",
    "            if(extra > 0):\n",
    "                s1 = s1[:-(extra+3)]+'...'\n",
    "            s+=s1\n",
    "        else:\n",
    "            s+='\\n'+s1\n",
    "    except Exception as e:\n",
    "        pass\n",
    "    return s\n",
    "\n",
    "a = np.eye(3)\n",
    "print about(a)\n",
    "print about(a, SINGLE_LINE=True)\n"
   ]
  },
  {
   "cell_type": "markdown",
   "metadata": {},
   "source": [
    "## Numpy Types"
   ]
  },
  {
   "cell_type": "code",
   "execution_count": 21,
   "metadata": {
    "collapsed": false
   },
   "outputs": [
    {
     "name": "stdout",
     "output_type": "stream",
     "text": [
      "type:<type 'numpy.ndarray'> shape:(2, 2) dtype:float64 \n",
      "[[ 1.  1.]\n",
      " [ 1.  1.]]\n",
      "type:<type 'numpy.ndarray'> shape:(2, 2) dtype:float32 \n",
      "[[ 1.  1.]\n",
      " [ 1.  1.]]\n",
      "type:<type 'numpy.ndarray'> shape:(2, 2) dtype:float64 \n",
      "[[ 1.  1.]\n",
      " [ 1.  1.]]\n",
      "type:<type 'numpy.ndarray'> shape:(2, 2) dtype:int64 \n",
      "[[1 1]\n",
      " [1 1]]\n",
      "type:<type 'numpy.ndarray'> shape:(2, 2) dtype:int32 \n",
      "[[1 1]\n",
      " [1 1]]\n",
      "type:<type 'numpy.ndarray'> shape:(2, 2) dtype:int64 \n",
      "[[1 1]\n",
      " [1 1]]\n"
     ]
    }
   ],
   "source": [
    "print about(np.ones((2,2), dtype=np.float))\n",
    "print about(np.ones((2,2), dtype=np.float32))\n",
    "print about(np.ones((2,2), dtype=np.float64))\n",
    "print about(np.ones((2,2), dtype=np.int))\n",
    "print about(np.ones((2,2), dtype=np.int32))\n",
    "print about(np.ones((2,2), dtype=np.int64))"
   ]
  },
  {
   "cell_type": "markdown",
   "metadata": {},
   "source": [
    "## Slicing"
   ]
  },
  {
   "cell_type": "code",
   "execution_count": 22,
   "metadata": {
    "collapsed": false
   },
   "outputs": [
    {
     "name": "stdout",
     "output_type": "stream",
     "text": [
      "[[0 1 2 3 4]\n",
      " [1 2 3 4 5]\n",
      " [2 3 4 5 6]\n",
      " [3 4 5 6 7]\n",
      " [4 5 6 7 8]]\n",
      "[[ 0  1  2  3  4]\n",
      " [-1  0  1  2  3]\n",
      " [-2 -1  0  1  2]\n",
      " [-3 -2 -1  0  1]\n",
      " [-4 -3 -2 -1  0]]\n"
     ]
    }
   ],
   "source": [
    "a = np.array([[x+y for x in range(5)] for y in range(5)])\n",
    "b = np.array([[x-y for x in range(5)] for y in range(5)])\n",
    "\n",
    "print a\n",
    "print b"
   ]
  },
  {
   "cell_type": "markdown",
   "metadata": {},
   "source": [
    "### Single row or col as a row"
   ]
  },
  {
   "cell_type": "code",
   "execution_count": 23,
   "metadata": {
    "collapsed": false
   },
   "outputs": [
    {
     "name": "stdout",
     "output_type": "stream",
     "text": [
      "[1 2 3 4 5]\n",
      "[4 5 6 7 8]\n",
      "[4 5 6 7 8]\n"
     ]
    }
   ],
   "source": [
    "a = np.array([[x+y for x in range(5)] for y in range(5)])\n",
    "\n",
    "print a[1,:]\n",
    "print a[:,4]\n",
    "print a[:,4]"
   ]
  },
  {
   "cell_type": "markdown",
   "metadata": {},
   "source": [
    "### Multiple rows or cols as a mat"
   ]
  },
  {
   "cell_type": "code",
   "execution_count": 24,
   "metadata": {
    "collapsed": false
   },
   "outputs": [
    {
     "name": "stdout",
     "output_type": "stream",
     "text": [
      "\n",
      "[[0 1 2 3 4]\n",
      " [1 2 3 4 5]]\n",
      "\n",
      "[[3 4]\n",
      " [4 5]\n",
      " [5 6]\n",
      " [6 7]\n",
      " [7 8]]\n",
      "\n",
      "[[4]\n",
      " [5]\n",
      " [6]\n",
      " [7]\n",
      " [8]]\n"
     ]
    }
   ],
   "source": [
    "a = np.array([[x+y for x in range(5)] for y in range(5)])\n",
    "\n",
    "print;print  a[0:2,:]\n",
    "print;print  a[:,3:5]\n",
    "print;print  a[:,4:5]  # single col as a 1-col mat"
   ]
  },
  {
   "cell_type": "markdown",
   "metadata": {},
   "source": [
    "### Slicing using lists"
   ]
  },
  {
   "cell_type": "code",
   "execution_count": 25,
   "metadata": {
    "collapsed": false
   },
   "outputs": [
    {
     "name": "stdout",
     "output_type": "stream",
     "text": [
      "\n",
      "[[0 1 2 3 4]\n",
      " [2 3 4 5 6]\n",
      " [4 5 6 7 8]]\n"
     ]
    }
   ],
   "source": [
    "a = np.array([[x+y for x in range(5)] for y in range(5)])\n",
    "\n",
    "print;print a[[0,2,4],:]"
   ]
  },
  {
   "cell_type": "markdown",
   "metadata": {},
   "source": [
    "### Slice as an object"
   ]
  },
  {
   "cell_type": "code",
   "execution_count": 26,
   "metadata": {
    "collapsed": false
   },
   "outputs": [
    {
     "name": "stdout",
     "output_type": "stream",
     "text": [
      "\n",
      "[[0 1 2 3 4]\n",
      " [1 2 3 4 5]\n",
      " [2 3 4 5 6]\n",
      " [3 4 5 6 7]\n",
      " [4 5 6 7 8]]\n",
      "\n",
      "[[0 1 2 3 4]\n",
      " [1 2 3 4 5]\n",
      " [2 3 4 5 6]\n",
      " [3 4 5 6 7]\n",
      " [4 5 6 7 8]]\n",
      "\n",
      "[[0 1 2 3 4]\n",
      " [2 3 4 5 6]\n",
      " [4 5 6 7 8]]\n"
     ]
    }
   ],
   "source": [
    "a = np.array([[x+y for x in range(5)] for y in range(5)])\n",
    "\n",
    "print;print a[slice(5),:]\n",
    "print;print a[slice(0,5),slice(None)]\n",
    "print;print a[slice(0,5,2),slice(None)]"
   ]
  },
  {
   "cell_type": "markdown",
   "metadata": {},
   "source": [
    "### Slicing using indices"
   ]
  },
  {
   "cell_type": "code",
   "execution_count": 27,
   "metadata": {
    "collapsed": false
   },
   "outputs": [
    {
     "name": "stdout",
     "output_type": "stream",
     "text": [
      "[ 0  1  4  9 16 25 36]\n",
      "[False  True False  True False  True False]\n",
      "[ 1  9 25]\n"
     ]
    }
   ],
   "source": [
    "a = np.array([i**2 for i in range(7)])\n",
    "print a\n",
    "\n",
    "idx = (a % 4)==1\n",
    "print idx\n",
    "print a[idx]"
   ]
  },
  {
   "cell_type": "markdown",
   "metadata": {},
   "source": [
    "## Axes"
   ]
  },
  {
   "cell_type": "code",
   "execution_count": 28,
   "metadata": {
    "collapsed": false
   },
   "outputs": [
    {
     "name": "stdout",
     "output_type": "stream",
     "text": [
      "[[0 1 2 3 4]\n",
      " [1 2 3 4 5]\n",
      " [2 3 4 5 6]\n",
      " [3 4 5 6 7]\n",
      " [4 5 6 7 8]]\n",
      "[10 15 20 25 30]\n",
      "[10 15 20 25 30]\n",
      "100\n"
     ]
    }
   ],
   "source": [
    "a = np.array([[x+y for x in range(5)] for y in range(5)])\n",
    "print a\n",
    "print a.sum(axis=0)\n",
    "print a.sum(axis=1)\n",
    "print a.sum()\n"
   ]
  },
  {
   "cell_type": "markdown",
   "metadata": {},
   "source": [
    "## Broadcasting"
   ]
  },
  {
   "cell_type": "code",
   "execution_count": 29,
   "metadata": {
    "collapsed": false
   },
   "outputs": [
    {
     "name": "stdout",
     "output_type": "stream",
     "text": [
      "type:<type 'numpy.ndarray'> shape:(5, 5) dtype:int64 \n",
      "[[0 1 2 3 4]\n",
      " [1 2 3 4 5]\n",
      " [2 3 4 5 6]\n",
      " [3 4 5 6 7]\n",
      " [4 5 6 7 8]]\n",
      "type:<type 'numpy.ndarray'> shape:(5,) dtype:int64 \n",
      "[0 1 2 3 4]\n",
      "type:<type 'numpy.ndarray'> shape:(5, 5) dtype:int64 \n",
      "[[ 0  2  4  6  8]\n",
      " [ 1  3  5  7  9]\n",
      " [ 2  4  6  8 10]\n",
      " [ 3  5  7  9 11]\n",
      " [ 4  6  8 10 12]]\n"
     ]
    }
   ],
   "source": [
    "a = np.array([[x+y for x in range(5)] for y in range(5)])\n",
    "b = np.array(range(5))\n",
    "print about(a)\n",
    "print about(b)\n",
    "print about(a+b)\n"
   ]
  },
  {
   "cell_type": "markdown",
   "metadata": {},
   "source": [
    "## What happened?"
   ]
  },
  {
   "cell_type": "code",
   "execution_count": 30,
   "metadata": {
    "collapsed": false
   },
   "outputs": [
    {
     "name": "stdout",
     "output_type": "stream",
     "text": [
      "type:<type 'numpy.ndarray'> shape:(5, 5) dtype:int64 \n",
      "[[0 1 2 3 4]\n",
      " [0 1 2 3 4]\n",
      " [0 1 2 3 4]\n",
      " [0 1 2 3 4]\n",
      " [0 1 2 3 4]]\n",
      "type:<type 'numpy.ndarray'> shape:(5, 5) dtype:int64 \n",
      "[[ 0  2  4  6  8]\n",
      " [ 1  3  5  7  9]\n",
      " [ 2  4  6  8 10]\n",
      " [ 3  5  7  9 11]\n",
      " [ 4  6  8 10 12]]\n"
     ]
    }
   ],
   "source": [
    "b2 = np.array([b for i in range(a.shape[1])])\n",
    "print about(b2)\n",
    "print about(a+b2)"
   ]
  },
  {
   "cell_type": "markdown",
   "metadata": {},
   "source": [
    "# References\n",
    "Following is a set of urls that were referred to while creating this document. You are encouraged to follow these up and read more aabout interesting topics.\n",
    "* [Homebrew Official](http://brew.sh/)\n",
    "* [Ipython Tutorial](http://cs231n.github.io/ipython-tutorial/)\n",
    "* [Numpy Tutorial](http://cs231n.github.io/python-numpy-tutorial/)\n",
    "* [DL for CV](http://deeplearningforcomputervision.com/)\n",
    "* [The Hitchhiker’s Guide to Python!](http://docs.python-guide.org/en/latest/)\n",
    "    - [Virtual Environments Tutorial](http://docs.python-guide.org/en/latest/dev/virtualenvs/#virtualenvironments-ref)\n",
    "    - [Properly Installing Python](http://docs.python-guide.org/en/latest/starting/installation/)\n",
    "        - [Installing Python on Mac OS X](http://docs.python-guide.org/en/latest/starting/install/osx/)\n",
    "    - [Style](http://docs.python-guide.org/en/latest/writing/style/)\n",
    "* [Tmux Tutorial](https://danielmiessler.com/study/tmux/)\n",
    "* [Tmux Official](https://tmux.github.io/)\n",
    "* [The Python Tutorial](https://docs.python.org/2.7/tutorial/)\n",
    "    - [Logging](https://docs.python.org/2/howto/logging-cookbook.html)\n",
    "    - [Collections](https://docs.python.org/2/library/collections.html)\n",
    "    - [Functional Programming Tools](https://docs.python.org/2/tutorial/datastructures.html#functional-programming-tools)\n",
    "* [Git Official](https://git-scm.com/)\n",
    "* [VirtualEnv Official](https://virtualenv.pypa.io/en/stable/)\n",
    "\n",
    "<!-- http://cs231n.github.io/aws-tutorial/ -->\n",
    "<!-- http://cs231n.github.io/terminal-tutorial/ -->\n"
   ]
  }
 ],
 "metadata": {
  "celltoolbar": "Raw Cell Format",
  "kernelspec": {
   "display_name": "Python 2",
   "language": "python",
   "name": "python2"
  },
  "language_info": {
   "codemirror_mode": {
    "name": "ipython",
    "version": 2
   },
   "file_extension": ".py",
   "mimetype": "text/x-python",
   "name": "python",
   "nbconvert_exporter": "python",
   "pygments_lexer": "ipython2",
   "version": "2.7.11"
  }
 },
 "nbformat": 4,
 "nbformat_minor": 2
}
